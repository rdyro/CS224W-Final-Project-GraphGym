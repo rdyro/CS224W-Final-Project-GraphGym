{
 "cells": [
  {
   "cell_type": "markdown",
   "metadata": {},
   "source": [
    "# Setup"
   ]
  },
  {
   "cell_type": "code",
   "execution_count": 15,
   "metadata": {},
   "outputs": [
    {
     "name": "stdout",
     "output_type": "stream",
     "text": [
      "Installed customized GraphGym module with contrib files from the `contrib` folder.\n"
     ]
    }
   ],
   "source": [
    "import sys\n",
    "from pathlib import Path\n",
    "from glob import glob\n",
    "from typing import Union, List\n",
    "from pprint import pprint\n",
    "from subprocess import check_output\n",
    "from multiprocessing import Pool\n",
    "\n",
    "import yaml\n",
    "from tqdm import tqdm\n",
    "\n",
    "GRAPHGYM_ROOT = Path(\"~/Documents\").expanduser() / \"GraphGym\"\n",
    "main_py = GRAPHGYM_ROOT / \"run\" / \"main.py\"\n",
    "configs_gen_py = GRAPHGYM_ROOT / \"run\" / \"configs_gen.py\"\n",
    "agg_batch_py = GRAPHGYM_ROOT / \"run\" / \"agg_batch.py\"\n",
    "assert main_py.exists()\n",
    "assert configs_gen_py.exists()\n",
    "assert agg_batch_py.exists()\n",
    "CONCURRENT_JOBS = 2\n",
    "\n",
    "# install custom contrib files to the graphgym folder\n",
    "check_output([sys.executable, str(Path(\"\") / \"install_contrib_files.py\"), str(GRAPHGYM_ROOT)]);\n",
    "print(\"Installed customized GraphGym module with contrib files from the `contrib` folder.\")"
   ]
  },
  {
   "cell_type": "code",
   "execution_count": 16,
   "metadata": {},
   "outputs": [],
   "source": [
    "def call_python(path: Union[str, Path], args: List[str]) -> str:\n",
    "    \"\"\"Call a Python subprocess and return its stdout output as a string.\"\"\"\n",
    "    output = check_output([sys.executable, str(path), *args]).decode(\"utf8\")\n",
    "    return output\n",
    "\n",
    "\n",
    "def run_config(config_path: Union[str, Path], repeats: int = 1) -> str:\n",
    "    return call_python(main_py, [\"--cfg\", str(config_path), \"--repeat\", str(repeats)])\n",
    "\n",
    "\n",
    "def gen_configs(\n",
    "    config_path: Union[str, Path], grid_path: Union[str, Path], sample_num: int = -1\n",
    ") -> str:\n",
    "    args = [\"--config\", str(config_path), \"--grid\", str(grid_path)]\n",
    "    if sample_num > 0:\n",
    "        args = args + [\"--sample\", \"--sample_num\", str(sample_num)]\n",
    "    return call_python(configs_gen_py, args)\n",
    "\n",
    "\n",
    "def _run_config_pool(args) -> str:\n",
    "    return run_config(*args)\n",
    "\n",
    "\n",
    "def run_configs(\n",
    "    config_paths: Union[str, Path], repeats: int = 1, concurrent_jobs: int = CONCURRENT_JOBS\n",
    ") -> str:\n",
    "    with Pool(concurrent_jobs) as pool:\n",
    "        outputs = list(\n",
    "            tqdm(\n",
    "                pool.imap(\n",
    "                    _run_config_pool, [(config_path, repeats) for config_path in config_paths]\n",
    "                ),\n",
    "                total=len(config_paths),\n",
    "            )\n",
    "        )\n",
    "    output_dir_name = Path(config_paths[0]).parent.name\n",
    "    print(f\"output_dir_name = {output_dir_name}\")\n",
    "    call_python(agg_batch_py, [\"--dir\", str(Path(\"\").absolute() / \"results\" / output_dir_name)])\n",
    "    return outputs\n",
    "\n",
    "\n",
    "def gen_and_run_configs(\n",
    "    config_path: Union[str, Path], grid_path: Union[str, List], repeats: int = 1\n",
    "):\n",
    "    gen_output = gen_configs(config_path, grid_path)\n",
    "    output_dir_name = f\"{config_path.stem}_grid_{grid_path.stem}\"\n",
    "    all_configs = glob.glob(str(Path(\"\").absolute() / \"configs\" / output_dir_name / \"*.yaml\"))\n",
    "    return dict(gen_output=gen_output, run_output=run_configs(all_configs, repeats=repeats))"
   ]
  },
  {
   "cell_type": "markdown",
   "metadata": {},
   "source": [
    "# Get help on our 3 main scripts"
   ]
  },
  {
   "cell_type": "code",
   "execution_count": 17,
   "metadata": {},
   "outputs": [
    {
     "name": "stderr",
     "output_type": "stream",
     "text": [
      "/home/rdyro/.pyenv/versions/3.9.13/envs/devel/lib/python3.9/site-packages/torchvision/io/image.py:13: UserWarning: Failed to load image Python extension: libtorch_cuda_cu.so: cannot open shared object file: No such file or directory\n",
      "  warn(f\"Failed to load image Python extension: {e}\")\n"
     ]
    },
    {
     "name": "stdout",
     "output_type": "stream",
     "text": [
      "usage: main.py [-h] --cfg CFG_FILE [--repeat REPEAT] [--mark_done] ...\n",
      "\n",
      "GraphGym\n",
      "\n",
      "positional arguments:\n",
      "  opts             See graphgym/config.py for remaining options.\n",
      "\n",
      "optional arguments:\n",
      "  -h, --help       show this help message and exit\n",
      "  --cfg CFG_FILE   The configuration file path.\n",
      "  --repeat REPEAT  The number of repeated jobs.\n",
      "  --mark_done      Mark yaml as done after a job has finished.\n",
      "\n"
     ]
    }
   ],
   "source": [
    "print(call_python(main_py, [\"--help\"]))"
   ]
  },
  {
   "cell_type": "code",
   "execution_count": 18,
   "metadata": {},
   "outputs": [
    {
     "name": "stderr",
     "output_type": "stream",
     "text": [
      "/home/rdyro/.pyenv/versions/3.9.13/envs/devel/lib/python3.9/site-packages/torchvision/io/image.py:13: UserWarning: Failed to load image Python extension: libtorch_cuda_cu.so: cannot open shared object file: No such file or directory\n",
      "  warn(f\"Failed to load image Python extension: {e}\")\n"
     ]
    },
    {
     "name": "stdout",
     "output_type": "stream",
     "text": [
      "usage: configs_gen.py [-h] [--config CONFIG] --grid GRID [--sample]\n",
      "                      [--sample_alias SAMPLE_ALIAS] [--sample_num SAMPLE_NUM]\n",
      "                      [--out_dir OUT_DIR] [--config_budget CONFIG_BUDGET]\n",
      "\n",
      "optional arguments:\n",
      "  -h, --help            show this help message and exit\n",
      "  --config CONFIG       the base configuration file used for edit\n",
      "  --grid GRID           configuration file for grid search\n",
      "  --sample              whether perform random sampling\n",
      "  --sample_alias SAMPLE_ALIAS\n",
      "                        configuration file for sample alias\n",
      "  --sample_num SAMPLE_NUM\n",
      "                        Number of random samples in the space\n",
      "  --out_dir OUT_DIR     output directory for generated config files\n",
      "  --config_budget CONFIG_BUDGET\n",
      "                        the base configuration file used for matching\n",
      "                        computation\n",
      "\n"
     ]
    }
   ],
   "source": [
    "print(call_python(configs_gen_py, [\"--help\"]))"
   ]
  },
  {
   "cell_type": "code",
   "execution_count": 19,
   "metadata": {},
   "outputs": [
    {
     "name": "stderr",
     "output_type": "stream",
     "text": [
      "/home/rdyro/.pyenv/versions/3.9.13/envs/devel/lib/python3.9/site-packages/torchvision/io/image.py:13: UserWarning: Failed to load image Python extension: libtorch_cuda_cu.so: cannot open shared object file: No such file or directory\n",
      "  warn(f\"Failed to load image Python extension: {e}\")\n"
     ]
    },
    {
     "name": "stdout",
     "output_type": "stream",
     "text": [
      "usage: agg_batch.py [-h] --dir DIR [--metric METRIC]\n",
      "\n",
      "Train a classification model\n",
      "\n",
      "optional arguments:\n",
      "  -h, --help       show this help message and exit\n",
      "  --dir DIR        Dir for batch of results\n",
      "  --metric METRIC  metric to select best epoch\n",
      "\n"
     ]
    }
   ],
   "source": [
    "print(call_python(agg_batch_py, [\"--help\"]))"
   ]
  },
  {
   "cell_type": "markdown",
   "metadata": {},
   "source": [
    "# Run a simple single config experiment"
   ]
  },
  {
   "cell_type": "code",
   "execution_count": null,
   "metadata": {},
   "outputs": [],
   "source": [
    "classic_config = Path(\"\").absolute() / \"configs\" / \"classic.yaml\"\n",
    "config = yaml.safe_load(classic_config.read_text())\n",
    "pprint(config)"
   ]
  },
  {
   "cell_type": "code",
   "execution_count": null,
   "metadata": {},
   "outputs": [],
   "source": [
    "output = run_config(classic_config, repeats=3)"
   ]
  },
  {
   "attachments": {},
   "cell_type": "markdown",
   "metadata": {},
   "source": [
    "# Run a simple grid experiment"
   ]
  },
  {
   "cell_type": "code",
   "execution_count": null,
   "metadata": {},
   "outputs": [],
   "source": [
    "classic_config = Path(\"\").absolute() / \"configs\" / \"classic.yaml\"\n",
    "classic_grid = Path(\"\").absolute() / \"configs\" / \"classic_grid.txt\"\n",
    "assert classic_config.exists()\n",
    "assert classic_grid.exists()\n",
    "print(gen_configs(classic_config, classic_grid))\n",
    "config_dir = Path(\"\").absolute() / \"configs\" / f\"{classic_config.stem}_grid_{classic_grid.stem}\"\n",
    "assert config_dir.exists()\n",
    "config_paths = list(glob(str(config_dir / \"*.yaml\")))\n",
    "assert len(config_paths) > 0"
   ]
  },
  {
   "cell_type": "code",
   "execution_count": null,
   "metadata": {},
   "outputs": [],
   "source": [
    "outputs = run_configs(config_paths, repeats=5, concurrent_jobs=4)"
   ]
  },
  {
   "attachments": {},
   "cell_type": "markdown",
   "metadata": {},
   "source": [
    "# Run a NAS grid experiment"
   ]
  },
  {
   "cell_type": "code",
   "execution_count": 5,
   "metadata": {},
   "outputs": [
    {
     "name": "stderr",
     "output_type": "stream",
     "text": [
      "/home/rdyro/.pyenv/versions/3.9.13/envs/devel/lib/python3.9/site-packages/torchvision/io/image.py:13: UserWarning: Failed to load image Python extension: libtorch_cuda_cu.so: cannot open shared object file: No such file or directory\n",
      "  warn(f\"Failed to load image Python extension: {e}\")\n"
     ]
    },
    {
     "name": "stdout",
     "output_type": "stream",
     "text": [
      "Total sample size of each chunk of experiment space: [200]\n",
      "Variable label: [['nas', 'node_0_1_act'], ['nas', 'node_0_2_act'], ['nas', 'node_0_3_act'], ['nas', 'node_1_2_act'], ['nas', 'node_1_3_act'], ['nas', 'node_2_3_act'], ['nas', 'node0'], ['nas', 'node1'], ['nas', 'node2'], ['nas', 'node3']]\n",
      "Variable alias: ['node_0_1_act', 'node_0_2_act', 'node_0_3_act', 'node_1_2_act', 'node_1_3_act', 'node_2_3_act', 'node0', 'node1', 'node2', 'node3']\n",
      "200 configurations saved to: configs/nas_grid_nas_grid\n",
      "\n"
     ]
    }
   ],
   "source": [
    "nas_config = Path(\"\").absolute() / \"configs\" / \"nas.yaml\"\n",
    "nas_config.write_text(\n",
    "    \"\"\"\n",
    "# a simple template file\n",
    "out_dir: results\n",
    "dataset:\n",
    "  name: Cora\n",
    "  task: node\n",
    "  task_type: classification\n",
    "  split: [0.8, 0.2]\n",
    "train:\n",
    "  batch_size: 32\n",
    "model:\n",
    "  type: nasgnn\n",
    "  loss_fun: cross_entropy\n",
    "gnn:\n",
    "  layers_pre_mp: 1\n",
    "  layers_mp: 2\n",
    "  layers_post_mp: 1\n",
    "# nas config\n",
    "nas:\n",
    "  node_0_1_act: tanh\n",
    "  node_0_2_act: tanh\n",
    "  node_0_3_act: tanh\n",
    "  node_1_2_act: tanh\n",
    "  node_1_3_act: tanh\n",
    "  node_2_3_act: tanh\n",
    "  node0: GCN\n",
    "  node1: GCN\n",
    "  node2: GCN\n",
    "  node3: GCN\n",
    "optim:\n",
    "  base_lr: 0.003\n",
    "  max_epoch: 400\n",
    "\"\"\"\n",
    ")\n",
    "nas_grid = Path(\"\").absolute() / \"configs\" / \"nas_grid.txt\"\n",
    "nas_grid.write_text(\n",
    "    \"\"\"\n",
    "nas.node_0_1_act node_0_1_act [\"relu\",\"prelu\",\"tanh\",\"identity\"]\n",
    "nas.node_0_2_act node_0_2_act [\"relu\",\"prelu\",\"tanh\",\"identity\"]\n",
    "nas.node_0_3_act node_0_3_act [\"relu\",\"prelu\",\"tanh\",\"identity\"]\n",
    "nas.node_1_2_act node_1_2_act [\"relu\",\"prelu\",\"tanh\",\"identity\"]\n",
    "nas.node_1_3_act node_1_3_act [\"relu\",\"prelu\",\"tanh\",\"identity\"]\n",
    "nas.node_2_3_act node_2_3_act [\"relu\",\"prelu\",\"tanh\",\"identity\"]\n",
    "nas.node0 node0 [\"GCN\",\"GAT\",\"GraphSage\",\"Identity\"]\n",
    "nas.node1 node1 [\"GCN\",\"GAT\",\"GraphSage\",\"Identity\"]\n",
    "nas.node2 node2 [\"GCN\",\"GAT\",\"GraphSage\",\"Identity\"]\n",
    "nas.node3 node3 [\"GCN\",\"GAT\",\"GraphSage\",\"Identity\"] \n",
    "    \"\"\"\n",
    ")\n",
    "print(gen_configs(nas_config, nas_grid, sample_num=200))\n",
    "nas_dir = Path(\"\").absolute() / \"configs\" / f\"{nas_config.stem}_grid_{nas_grid.stem}\"\n",
    "assert nas_dir.exists()\n",
    "config_paths = list(glob(str(nas_dir / \"*.yaml\")))\n",
    "assert len(config_paths) > 0"
   ]
  },
  {
   "cell_type": "code",
   "execution_count": null,
   "metadata": {},
   "outputs": [],
   "source": [
    "outputs = run_configs(config_paths, repeats=5, concurrent_jobs=2)"
   ]
  }
 ],
 "metadata": {
  "kernelspec": {
   "display_name": "devel",
   "language": "python",
   "name": "python3"
  },
  "language_info": {
   "codemirror_mode": {
    "name": "ipython",
    "version": 3
   },
   "file_extension": ".py",
   "mimetype": "text/x-python",
   "name": "python",
   "nbconvert_exporter": "python",
   "pygments_lexer": "ipython3",
   "version": "3.9.13"
  },
  "orig_nbformat": 4
 },
 "nbformat": 4,
 "nbformat_minor": 2
}
