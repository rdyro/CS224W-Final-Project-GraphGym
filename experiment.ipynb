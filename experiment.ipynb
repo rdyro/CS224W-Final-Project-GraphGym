{
 "cells": [
  {
   "cell_type": "markdown",
   "metadata": {},
   "source": [
    "# Setup"
   ]
  },
  {
   "cell_type": "code",
   "execution_count": 10,
   "metadata": {},
   "outputs": [],
   "source": [
    "import sys\n",
    "from pathlib import Path\n",
    "from glob import glob\n",
    "from typing import Union, List\n",
    "from pprint import pprint\n",
    "from subprocess import check_output\n",
    "from multiprocessing import Pool\n",
    "\n",
    "import yaml\n",
    "from tqdm import tqdm\n",
    "\n",
    "GRAPHGYM_ROOT = Path(\"~/Documents\").expanduser() / \"GraphGym\"\n",
    "main_py = GRAPHGYM_ROOT / \"run\" / \"main.py\"\n",
    "configs_gen_py = GRAPHGYM_ROOT / \"run\" / \"configs_gen.py\"\n",
    "agg_batch_py = GRAPHGYM_ROOT / \"run\" / \"agg_batch.py\"\n",
    "assert main_py.exists()\n",
    "assert configs_gen_py.exists()\n",
    "assert agg_batch_py.exists()\n",
    "CONCURRENT_JOBS = 2\n",
    "\n",
    "\n",
    "def call_python(path: Union[str, Path], args: List[str]) -> str:\n",
    "    \"\"\"Call a Python subprocess and return its stdout output as a string.\"\"\"\n",
    "    output = check_output([sys.executable, str(path), *args]).decode(\"utf8\")\n",
    "    return output\n",
    "\n",
    "\n",
    "def run_config(config_path: Union[str, Path], repeats: int = 1) -> str:\n",
    "    return call_python(main_py, [\"--cfg\", str(config_path), \"--repeat\", str(repeats)])\n",
    "\n",
    "\n",
    "def run_config_pool(args) -> str:\n",
    "    return run_config(*args)\n",
    "\n",
    "\n",
    "def gen_configs(\n",
    "    config_path: Union[str, Path], grid_path: Union[str, Path], sample_num: int = -1\n",
    ") -> str:\n",
    "    args = [\"--config\", str(config_path), \"--grid\", str(grid_path)]\n",
    "    if sample_num > 0:\n",
    "        args = args + [\"--sample\", \"--sample_num\", str(sample_num)]\n",
    "    return call_python(configs_gen_py, args)\n",
    "\n",
    "\n",
    "def run_configs(\n",
    "    config_paths: Union[str, Path], repeats: int = 1, concurrent_jobs: int = CONCURRENT_JOBS\n",
    ") -> str:\n",
    "    with Pool(concurrent_jobs) as pool:\n",
    "        outputs = list(\n",
    "            tqdm(\n",
    "                pool.imap(\n",
    "                    run_config_pool, [(config_path, repeats) for config_path in config_paths]\n",
    "                ),\n",
    "                total=len(config_paths),\n",
    "            )\n",
    "        )\n",
    "    output_dir_name = Path(config_paths[0]).parent.name\n",
    "    print(f\"output_dir_name = {output_dir_name}\")\n",
    "    call_python(agg_batch_py, [\"--dir\", str(Path(\"\").absolute() / \"results\" / output_dir_name)])\n",
    "    return outputs\n",
    "\n",
    "\n",
    "def gen_and_run_configs(\n",
    "    config_path: Union[str, Path], grid_path: Union[str, List], repeats: int = 1\n",
    "):\n",
    "    gen_output = gen_configs(config_path, grid_path)\n",
    "    output_dir_name = f\"{config_path.stem}_grid_{grid_path.stem}\"\n",
    "    all_configs = glob.glob(str(Path(\"\").absolute() / \"configs\" / output_dir_name / \"*.yaml\"))\n",
    "    return dict(gen_output=gen_output, run_output=run_configs(all_configs, repeats=repeats))\n"
   ]
  },
  {
   "cell_type": "markdown",
   "metadata": {},
   "source": [
    "# Get help on our 3 main scripts"
   ]
  },
  {
   "cell_type": "code",
   "execution_count": 3,
   "metadata": {},
   "outputs": [
    {
     "name": "stdout",
     "output_type": "stream",
     "text": [
      "usage: main.py [-h] --cfg CFG_FILE [--repeat REPEAT] [--mark_done] ...\n",
      "\n",
      "GraphGym\n",
      "\n",
      "positional arguments:\n",
      "  opts             See graphgym/config.py for remaining options.\n",
      "\n",
      "optional arguments:\n",
      "  -h, --help       show this help message and exit\n",
      "  --cfg CFG_FILE   The configuration file path.\n",
      "  --repeat REPEAT  The number of repeated jobs.\n",
      "  --mark_done      Mark yaml as done after a job has finished.\n",
      "\n"
     ]
    }
   ],
   "source": [
    "print(call_python(main_py, [\"--help\"]))"
   ]
  },
  {
   "cell_type": "code",
   "execution_count": 4,
   "metadata": {},
   "outputs": [
    {
     "name": "stdout",
     "output_type": "stream",
     "text": [
      "usage: configs_gen.py [-h] [--config CONFIG] --grid GRID [--sample]\n",
      "                      [--sample_alias SAMPLE_ALIAS] [--sample_num SAMPLE_NUM]\n",
      "                      [--out_dir OUT_DIR] [--config_budget CONFIG_BUDGET]\n",
      "\n",
      "optional arguments:\n",
      "  -h, --help            show this help message and exit\n",
      "  --config CONFIG       the base configuration file used for edit\n",
      "  --grid GRID           configuration file for grid search\n",
      "  --sample              whether perform random sampling\n",
      "  --sample_alias SAMPLE_ALIAS\n",
      "                        configuration file for sample alias\n",
      "  --sample_num SAMPLE_NUM\n",
      "                        Number of random samples in the space\n",
      "  --out_dir OUT_DIR     output directory for generated config files\n",
      "  --config_budget CONFIG_BUDGET\n",
      "                        the base configuration file used for matching\n",
      "                        computation\n",
      "\n"
     ]
    }
   ],
   "source": [
    "print(call_python(configs_gen_py, [\"--help\"]))"
   ]
  },
  {
   "cell_type": "code",
   "execution_count": 5,
   "metadata": {},
   "outputs": [
    {
     "name": "stdout",
     "output_type": "stream",
     "text": [
      "usage: agg_batch.py [-h] --dir DIR [--metric METRIC]\n",
      "\n",
      "Train a classification model\n",
      "\n",
      "optional arguments:\n",
      "  -h, --help       show this help message and exit\n",
      "  --dir DIR        Dir for batch of results\n",
      "  --metric METRIC  metric to select best epoch\n",
      "\n"
     ]
    }
   ],
   "source": [
    "print(call_python(agg_batch_py, [\"--help\"]))"
   ]
  },
  {
   "cell_type": "markdown",
   "metadata": {},
   "source": [
    "# Run a simple single config experiment"
   ]
  },
  {
   "cell_type": "code",
   "execution_count": 96,
   "metadata": {},
   "outputs": [
    {
     "name": "stdout",
     "output_type": "stream",
     "text": [
      "{'dataset': {'name': 'Cora',\n",
      "             'split': [0.8, 0.1, 0.1],\n",
      "             'task': 'node',\n",
      "             'task_type': 'classification'},\n",
      " 'gnn': {'dim_inner': 256,\n",
      "         'layer_type': 'generalconv',\n",
      "         'layers_mp': 2,\n",
      "         'layers_post_mp': 1,\n",
      "         'layers_pre_mp': 1},\n",
      " 'model': {'loss_fun': 'cross_entropy', 'type': 'gnn'},\n",
      " 'optim': {'base_lr': 0.003, 'max_epoch': 400, 'optimizer': 'adam'},\n",
      " 'out_dir': 'results',\n",
      " 'train': {'batch_size': 32, 'ckpt_period': 100, 'eval_period': 20}}\n"
     ]
    }
   ],
   "source": [
    "classic_config = Path(\"\").absolute() / \"configs\" / \"classic.yaml\"\n",
    "config = yaml.safe_load(classic_config.read_text())\n",
    "pprint(config)"
   ]
  },
  {
   "cell_type": "code",
   "execution_count": 97,
   "metadata": {},
   "outputs": [],
   "source": [
    "output = run_config(classic_config, repeats=3)"
   ]
  },
  {
   "attachments": {},
   "cell_type": "markdown",
   "metadata": {},
   "source": [
    "# Run a simple grid experiment"
   ]
  },
  {
   "cell_type": "code",
   "execution_count": 99,
   "metadata": {},
   "outputs": [
    {
     "name": "stdout",
     "output_type": "stream",
     "text": [
      "Variable label: [['gnn', 'dim_inner'], ['gnn', 'act']]\n",
      "Variable alias: ['dim_inner', 'activation']\n",
      "18 configurations saved to: configs/classic_grid_classic_grid\n",
      "\n"
     ]
    }
   ],
   "source": [
    "classic_config = Path(\"\").absolute() / \"configs\" / \"classic.yaml\"\n",
    "classic_grid = Path(\"\").absolute() / \"configs\" / \"classic_grid.txt\"\n",
    "assert classic_config.exists()\n",
    "assert classic_grid.exists()\n",
    "print(gen_configs(classic_config, classic_grid))\n",
    "config_dir = Path(\"\").absolute() / \"configs\" / f\"{classic_config.stem}_grid_{classic_grid.stem}\"\n",
    "assert config_dir.exists()\n",
    "config_paths = list(glob(str(config_dir / \"*.yaml\")))\n",
    "assert len(config_paths) > 0"
   ]
  },
  {
   "cell_type": "code",
   "execution_count": 101,
   "metadata": {},
   "outputs": [
    {
     "name": "stderr",
     "output_type": "stream",
     "text": [
      "100%|██████████| 18/18 [04:27<00:00, 14.88s/it]\n"
     ]
    },
    {
     "name": "stdout",
     "output_type": "stream",
     "text": [
      "output_dir_name = classic_grid_classic_grid\n"
     ]
    }
   ],
   "source": [
    "outputs = run_configs(config_paths, repeats=5, concurrent_jobs=4)"
   ]
  },
  {
   "attachments": {},
   "cell_type": "markdown",
   "metadata": {},
   "source": [
    "# Run a NAS grid experiment"
   ]
  },
  {
   "cell_type": "code",
   "execution_count": 12,
   "metadata": {},
   "outputs": [
    {
     "name": "stderr",
     "output_type": "stream",
     "text": [
      "/home/rdyro/.pyenv/versions/3.9.13/envs/devel/lib/python3.9/site-packages/torchvision/io/image.py:13: UserWarning: Failed to load image Python extension: libtorch_cuda_cu.so: cannot open shared object file: No such file or directory\n",
      "  warn(f\"Failed to load image Python extension: {e}\")\n"
     ]
    },
    {
     "name": "stdout",
     "output_type": "stream",
     "text": [
      "Total sample size of each chunk of experiment space: [200]\n",
      "Variable label: [['gnn', 'node01_act'], ['gnn', 'node02_act'], ['gnn', 'node03_act'], ['gnn', 'node12_act'], ['gnn', 'node13_act'], ['gnn', 'node23_act'], ['gnn', 'node0'], ['gnn', 'node1'], ['gnn', 'node2'], ['gnn', 'node3']]\n",
      "Variable alias: ['node01_act', 'node02_act', 'node03_act', 'node12_act', 'node13_act', 'node23_act', 'node0', 'node1', 'node2', 'node3']\n",
      "200 configurations saved to: configs/nas_grid_nas_grid2\n",
      "\n"
     ]
    }
   ],
   "source": [
    "nas_config = Path(\"\").absolute() / \"configs\" / \"nas.yaml\"\n",
    "nas_config.write_text(\n",
    "    \"\"\"\n",
    "# a simple template file\n",
    "out_dir: results\n",
    "dataset:\n",
    "  name: Cora\n",
    "  task: node\n",
    "  task_type: classification\n",
    "  split: [0.8, 0.2]\n",
    "train:\n",
    "  batch_size: 32\n",
    "model:\n",
    "  type: nasgnn\n",
    "  loss_fun: cross_entropy\n",
    "gnn:\n",
    "  layers_pre_mp: 1\n",
    "  layers_mp: 2\n",
    "  layers_post_mp: 1\n",
    "# nas config\n",
    "nas:\n",
    "  node01_act: tanh\n",
    "  node02_act: tanh\n",
    "  node03_act: tanh\n",
    "  node12_act: tanh\n",
    "  node13_act: tanh\n",
    "  node23_act: tanh\n",
    "  node0: GCN\n",
    "  node1: GCN\n",
    "  node2: GCN\n",
    "  node3: GCN\n",
    "optim:\n",
    "  base_lr: 0.003\n",
    "  max_epoch: 400\n",
    "\"\"\"\n",
    ")\n",
    "nas_grid = Path(\"\").absolute() / \"configs\" / \"nas_grid2.txt\"\n",
    "nas_grid.write_text(\n",
    "    \"\"\"\n",
    "nas.node01_act node01_act [\"relu\",\"prelu\",\"tanh\",\"identity\"]\n",
    "nas.node02_act node02_act [\"relu\",\"prelu\",\"tanh\",\"identity\"]\n",
    "nas.node03_act node03_act [\"relu\",\"prelu\",\"tanh\",\"identity\"]\n",
    "nas.node12_act node12_act [\"relu\",\"prelu\",\"tanh\",\"identity\"]\n",
    "nas.node13_act node13_act [\"relu\",\"prelu\",\"tanh\",\"identity\"]\n",
    "nas.node23_act node23_act [\"relu\",\"prelu\",\"tanh\",\"identity\"]\n",
    "nas.node0 node0 [\"GCN\",\"GAT\",\"GraphSage\",\"Identity\"]\n",
    "nas.node1 node1 [\"GCN\",\"GAT\",\"GraphSage\",\"Identity\"]\n",
    "nas.node2 node2 [\"GCN\",\"GAT\",\"GraphSage\",\"Identity\"]\n",
    "nas.node3 node3 [\"GCN\",\"GAT\",\"GraphSage\",\"Identity\"] \n",
    "    \"\"\"\n",
    ")\n",
    "print(gen_configs(nas_config, nas_grid, sample_num=200))\n",
    "nas_dir = Path(\"\").absolute() / \"configs\" / f\"{nas_config.stem}_grid_{nas_grid.stem}\"\n",
    "assert nas_dir.exists()\n",
    "config_paths = list(glob(str(nas_dir / \"*.yaml\")))\n",
    "assert len(config_paths) > 0"
   ]
  },
  {
   "cell_type": "code",
   "execution_count": 13,
   "metadata": {},
   "outputs": [
    {
     "name": "stderr",
     "output_type": "stream",
     "text": [
      "  0%|          | 0/2 [00:00<?, ?it/s]/home/rdyro/.pyenv/versions/3.9.13/envs/devel/lib/python3.9/site-packages/torchvision/io/image.py:13: UserWarning: Failed to load image Python extension: libtorch_cuda_cu.so: cannot open shared object file: No such file or directory\n",
      "  warn(f\"Failed to load image Python extension: {e}\")\n",
      "/home/rdyro/.pyenv/versions/3.9.13/envs/devel/lib/python3.9/site-packages/torchvision/io/image.py:13: UserWarning: Failed to load image Python extension: libtorch_cuda_cu.so: cannot open shared object file: No such file or directory\n",
      "  warn(f\"Failed to load image Python extension: {e}\")\n",
      "Traceback (most recent call last):\n",
      "  File \"/home/rdyro/Documents/GraphGym/run/main.py\", line 23, in <module>\n",
      "    load_cfg(cfg, args)\n",
      "  File \"/home/rdyro/.pyenv/versions/3.9.13/envs/devel/lib/python3.9/site-packages/graphgym/config.py\", line 517, in load_cfg\n",
      "    cfg.merge_from_file(args.cfg_file)\n",
      "  File \"/home/rdyro/.pyenv/versions/3.9.13/envs/devel/lib/python3.9/site-packages/yacs/config.py\", line 213, in merge_from_file\n",
      "    self.merge_from_other_cfg(cfg)\n",
      "  File \"/home/rdyro/.pyenv/versions/3.9.13/envs/devel/lib/python3.9/site-packages/yacs/config.py\", line 217, in merge_from_other_cfg\n",
      "    _merge_a_into_b(cfg_other, self, self, [])\n",
      "  File \"/home/rdyro/.pyenv/versions/3.9.13/envs/devel/lib/python3.9/site-packages/yacs/config.py\", line 478, in _merge_a_into_b\n",
      "    _merge_a_into_b(v, b[k], root, key_list + [k])\n",
      "  File \"/home/rdyro/.pyenv/versions/3.9.13/envs/devel/lib/python3.9/site-packages/yacs/config.py\", line 491, in _merge_a_into_b\n",
      "    raise KeyError(\"Non-existent config key: {}\".format(full_key))\n",
      "KeyError: 'Non-existent config key: gnn.node0'\n",
      "Traceback (most recent call last):\n",
      "  File \"/home/rdyro/Documents/GraphGym/run/main.py\", line 23, in <module>\n",
      "    load_cfg(cfg, args)\n",
      "  File \"/home/rdyro/.pyenv/versions/3.9.13/envs/devel/lib/python3.9/site-packages/graphgym/config.py\", line 517, in load_cfg\n",
      "    cfg.merge_from_file(args.cfg_file)\n",
      "  File \"/home/rdyro/.pyenv/versions/3.9.13/envs/devel/lib/python3.9/site-packages/yacs/config.py\", line 213, in merge_from_file\n",
      "    self.merge_from_other_cfg(cfg)\n",
      "  File \"/home/rdyro/.pyenv/versions/3.9.13/envs/devel/lib/python3.9/site-packages/yacs/config.py\", line 217, in merge_from_other_cfg\n",
      "    _merge_a_into_b(cfg_other, self, self, [])\n",
      "  File \"/home/rdyro/.pyenv/versions/3.9.13/envs/devel/lib/python3.9/site-packages/yacs/config.py\", line 478, in _merge_a_into_b\n",
      "    _merge_a_into_b(v, b[k], root, key_list + [k])\n",
      "  File \"/home/rdyro/.pyenv/versions/3.9.13/envs/devel/lib/python3.9/site-packages/yacs/config.py\", line 491, in _merge_a_into_b\n",
      "    raise KeyError(\"Non-existent config key: {}\".format(full_key))\n",
      "KeyError: 'Non-existent config key: gnn.node0'\n",
      "  0%|          | 0/2 [00:02<?, ?it/s]\n"
     ]
    },
    {
     "ename": "CalledProcessError",
     "evalue": "Command '['/home/rdyro/.pyenv/versions/3.9.13/envs/devel/bin/python', '/home/rdyro/Documents/GraphGym/run/main.py', '--cfg', '/home/rdyro/Documents/CS224W-Final-Project-GraphGym/configs/nas_grid_nas_grid2/nas-node01_act=identity-node02_act=prelu-node03_act=prelu-node12_act=identity-node13_act=identity-node23_act=prelu-node0=Identity-node1=GCN-node2=GraphSage-node3=GAT.yaml', '--repeat', '5']' returned non-zero exit status 1.",
     "output_type": "error",
     "traceback": [
      "\u001b[0;31m---------------------------------------------------------------------------\u001b[0m",
      "\u001b[0;31mRemoteTraceback\u001b[0m                           Traceback (most recent call last)",
      "\u001b[0;31mRemoteTraceback\u001b[0m: \n\"\"\"\nTraceback (most recent call last):\n  File \"/home/rdyro/.pyenv/versions/3.9.13/lib/python3.9/multiprocessing/pool.py\", line 125, in worker\n    result = (True, func(*args, **kwds))\n  File \"/tmp/ipykernel_2681056/8274686.py\", line 33, in run_config_pool\n    return run_config(*args)\n  File \"/tmp/ipykernel_2681056/8274686.py\", line 29, in run_config\n    return call_python(main_py, [\"--cfg\", str(config_path), \"--repeat\", str(repeats)])\n  File \"/tmp/ipykernel_2681056/8274686.py\", line 24, in call_python\n    output = check_output([sys.executable, str(path), *args]).decode(\"utf8\")\n  File \"/home/rdyro/.pyenv/versions/3.9.13/lib/python3.9/subprocess.py\", line 424, in check_output\n    return run(*popenargs, stdout=PIPE, timeout=timeout, check=True,\n  File \"/home/rdyro/.pyenv/versions/3.9.13/lib/python3.9/subprocess.py\", line 528, in run\n    raise CalledProcessError(retcode, process.args,\nsubprocess.CalledProcessError: Command '['/home/rdyro/.pyenv/versions/3.9.13/envs/devel/bin/python', '/home/rdyro/Documents/GraphGym/run/main.py', '--cfg', '/home/rdyro/Documents/CS224W-Final-Project-GraphGym/configs/nas_grid_nas_grid2/nas-node01_act=identity-node02_act=prelu-node03_act=prelu-node12_act=identity-node13_act=identity-node23_act=prelu-node0=Identity-node1=GCN-node2=GraphSage-node3=GAT.yaml', '--repeat', '5']' returned non-zero exit status 1.\n\"\"\"",
      "\nThe above exception was the direct cause of the following exception:\n",
      "\u001b[0;31mCalledProcessError\u001b[0m                        Traceback (most recent call last)",
      "Cell \u001b[0;32mIn[13], line 1\u001b[0m\n\u001b[0;32m----> 1\u001b[0m outputs \u001b[39m=\u001b[39m run_configs(config_paths[:\u001b[39m2\u001b[39;49m], repeats\u001b[39m=\u001b[39;49m\u001b[39m5\u001b[39;49m, concurrent_jobs\u001b[39m=\u001b[39;49m\u001b[39m2\u001b[39;49m)\n",
      "Cell \u001b[0;32mIn[10], line 49\u001b[0m, in \u001b[0;36mrun_configs\u001b[0;34m(config_paths, repeats, concurrent_jobs)\u001b[0m\n\u001b[1;32m     45\u001b[0m \u001b[39mdef\u001b[39;00m \u001b[39mrun_configs\u001b[39m(\n\u001b[1;32m     46\u001b[0m     config_paths: Union[\u001b[39mstr\u001b[39m, Path], repeats: \u001b[39mint\u001b[39m \u001b[39m=\u001b[39m \u001b[39m1\u001b[39m, concurrent_jobs: \u001b[39mint\u001b[39m \u001b[39m=\u001b[39m CONCURRENT_JOBS\n\u001b[1;32m     47\u001b[0m ) \u001b[39m-\u001b[39m\u001b[39m>\u001b[39m \u001b[39mstr\u001b[39m:\n\u001b[1;32m     48\u001b[0m     \u001b[39mwith\u001b[39;00m Pool(concurrent_jobs) \u001b[39mas\u001b[39;00m pool:\n\u001b[0;32m---> 49\u001b[0m         outputs \u001b[39m=\u001b[39m \u001b[39mlist\u001b[39;49m(\n\u001b[1;32m     50\u001b[0m             tqdm(\n\u001b[1;32m     51\u001b[0m                 pool\u001b[39m.\u001b[39;49mimap(\n\u001b[1;32m     52\u001b[0m                     run_config_pool, [(config_path, repeats) \u001b[39mfor\u001b[39;49;00m config_path \u001b[39min\u001b[39;49;00m config_paths]\n\u001b[1;32m     53\u001b[0m                 ),\n\u001b[1;32m     54\u001b[0m                 total\u001b[39m=\u001b[39;49m\u001b[39mlen\u001b[39;49m(config_paths),\n\u001b[1;32m     55\u001b[0m             )\n\u001b[1;32m     56\u001b[0m         )\n\u001b[1;32m     57\u001b[0m     output_dir_name \u001b[39m=\u001b[39m Path(config_paths[\u001b[39m0\u001b[39m])\u001b[39m.\u001b[39mparent\u001b[39m.\u001b[39mname\n\u001b[1;32m     58\u001b[0m     \u001b[39mprint\u001b[39m(\u001b[39mf\u001b[39m\u001b[39m\"\u001b[39m\u001b[39moutput_dir_name = \u001b[39m\u001b[39m{\u001b[39;00moutput_dir_name\u001b[39m}\u001b[39;00m\u001b[39m\"\u001b[39m)\n",
      "File \u001b[0;32m~/.pyenv/versions/3.9.13/envs/devel/lib/python3.9/site-packages/tqdm/std.py:1195\u001b[0m, in \u001b[0;36mtqdm.__iter__\u001b[0;34m(self)\u001b[0m\n\u001b[1;32m   1192\u001b[0m time \u001b[39m=\u001b[39m \u001b[39mself\u001b[39m\u001b[39m.\u001b[39m_time\n\u001b[1;32m   1194\u001b[0m \u001b[39mtry\u001b[39;00m:\n\u001b[0;32m-> 1195\u001b[0m     \u001b[39mfor\u001b[39;00m obj \u001b[39min\u001b[39;00m iterable:\n\u001b[1;32m   1196\u001b[0m         \u001b[39myield\u001b[39;00m obj\n\u001b[1;32m   1197\u001b[0m         \u001b[39m# Update and possibly print the progressbar.\u001b[39;00m\n\u001b[1;32m   1198\u001b[0m         \u001b[39m# Note: does not call self.update(1) for speed optimisation.\u001b[39;00m\n",
      "File \u001b[0;32m~/.pyenv/versions/3.9.13/lib/python3.9/multiprocessing/pool.py:870\u001b[0m, in \u001b[0;36mIMapIterator.next\u001b[0;34m(self, timeout)\u001b[0m\n\u001b[1;32m    868\u001b[0m \u001b[39mif\u001b[39;00m success:\n\u001b[1;32m    869\u001b[0m     \u001b[39mreturn\u001b[39;00m value\n\u001b[0;32m--> 870\u001b[0m \u001b[39mraise\u001b[39;00m value\n",
      "\u001b[0;31mCalledProcessError\u001b[0m: Command '['/home/rdyro/.pyenv/versions/3.9.13/envs/devel/bin/python', '/home/rdyro/Documents/GraphGym/run/main.py', '--cfg', '/home/rdyro/Documents/CS224W-Final-Project-GraphGym/configs/nas_grid_nas_grid2/nas-node01_act=identity-node02_act=prelu-node03_act=prelu-node12_act=identity-node13_act=identity-node23_act=prelu-node0=Identity-node1=GCN-node2=GraphSage-node3=GAT.yaml', '--repeat', '5']' returned non-zero exit status 1."
     ]
    }
   ],
   "source": [
    "outputs = run_configs(config_paths[:2], repeats=5, concurrent_jobs=2)"
   ]
  },
  {
   "cell_type": "code",
   "execution_count": null,
   "metadata": {},
   "outputs": [],
   "source": []
  }
 ],
 "metadata": {
  "kernelspec": {
   "display_name": "devel",
   "language": "python",
   "name": "python3"
  },
  "language_info": {
   "codemirror_mode": {
    "name": "ipython",
    "version": 3
   },
   "file_extension": ".py",
   "mimetype": "text/x-python",
   "name": "python",
   "nbconvert_exporter": "python",
   "pygments_lexer": "ipython3",
   "version": "3.9.13"
  },
  "orig_nbformat": 4
 },
 "nbformat": 4,
 "nbformat_minor": 2
}
