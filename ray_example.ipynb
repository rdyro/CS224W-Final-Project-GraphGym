{
 "cells": [
  {
   "cell_type": "markdown",
   "metadata": {},
   "source": [
    "# Setup"
   ]
  },
  {
   "cell_type": "code",
   "execution_count": null,
   "metadata": {},
   "outputs": [],
   "source": [
    "import re\n",
    "import sys\n",
    "from pathlib import Path\n",
    "from glob import glob\n",
    "from typing import Union, List\n",
    "from subprocess import check_output, check_call\n",
    "\n",
    "import ray, ray.tune\n",
    "import yaml, json\n",
    "\n",
    "GRAPHGYM_ROOT = Path(\"~/Documents\").expanduser() / \"GraphGym\"\n",
    "main_py = GRAPHGYM_ROOT / \"run\" / \"main.py\"\n",
    "configs_gen_py = GRAPHGYM_ROOT / \"run\" / \"configs_gen.py\"\n",
    "agg_batch_py = GRAPHGYM_ROOT / \"run\" / \"agg_batch.py\"\n",
    "assert main_py.exists()\n",
    "assert configs_gen_py.exists()\n",
    "assert agg_batch_py.exists()"
   ]
  },
  {
   "cell_type": "code",
   "execution_count": null,
   "metadata": {},
   "outputs": [],
   "source": [
    "# install custom contrib files to the graphgym folder\n",
    "check_output([sys.executable, str(Path(\"\") / \"install_contrib_files.py\"), str(GRAPHGYM_ROOT)]);\n",
    "print(\"Installed customized GraphGym module with contrib files from the `contrib` folder.\")"
   ]
  },
  {
   "cell_type": "code",
   "execution_count": null,
   "metadata": {},
   "outputs": [],
   "source": [
    "def call_python(path: Union[str, Path], args: List[str], verbose: bool = False) -> str:\n",
    "    \"\"\"Call a Python subprocess and return its stdout output as a string.\"\"\"\n",
    "    if verbose:\n",
    "        check_call([sys.executable, str(path), *args])\n",
    "        output = None\n",
    "    else:\n",
    "        output = check_output([sys.executable, str(path), *args]).decode(\"utf8\")\n",
    "    return output\n",
    "\n",
    "\n",
    "def run_config(config_path: Union[str, Path], repeats: int = 1, verbose: bool = False) -> str:\n",
    "    return call_python(\n",
    "        main_py, [\"--cfg\", str(config_path), \"--repeat\", str(repeats)], verbose=verbose\n",
    "    )\n",
    "\n",
    "\n",
    "def gen_configs(\n",
    "    config_path: Union[str, Path], grid_path: Union[str, Path], sample_num: int = -1\n",
    ") -> str:\n",
    "    args = [\"--config\", str(config_path), \"--grid\", str(grid_path)]\n",
    "    if sample_num > 0:\n",
    "        args = args + [\"--sample\", \"--sample_num\", str(sample_num)]\n",
    "    return call_python(configs_gen_py, args)"
   ]
  },
  {
   "attachments": {},
   "cell_type": "markdown",
   "metadata": {},
   "source": [
    "# A simple grid experiment"
   ]
  },
  {
   "attachments": {},
   "cell_type": "markdown",
   "metadata": {},
   "source": [
    "Let's first generate configuration files using `configs_gen.py` script."
   ]
  },
  {
   "cell_type": "code",
   "execution_count": null,
   "metadata": {},
   "outputs": [],
   "source": [
    "classic_config = Path(\"\").absolute() / \"configs\" / \"classic.yaml\"\n",
    "classic_grid = Path(\"\").absolute() / \"configs\" / \"classic_grid.txt\"\n",
    "assert classic_config.exists()\n",
    "assert classic_grid.exists()\n",
    "print(gen_configs(classic_config, classic_grid))\n",
    "config_dir = Path(\"\").absolute() / \"configs\" / f\"{classic_config.stem}_grid_{classic_grid.stem}\"\n",
    "assert config_dir.exists()\n",
    "config_paths = list(glob(str(config_dir / \"*.yaml\")))\n",
    "assert len(config_paths) > 0"
   ]
  },
  {
   "attachments": {},
   "cell_type": "markdown",
   "metadata": {},
   "source": [
    "Now, let's create a ray function that runs a config.\n",
    "\n",
    "We need to be a little careful to about working with Ray since Ray can run on a distributed cluster.\n",
    "\n",
    "1. pass the configuration file as a Python dictionary\n",
    "2. write that dictionary into a new configuration file\n",
    "3. run the experiment using `main.py` from GraphGym\n",
    "4. read the results of a trial from `stats.json` files in `train`, `val`, `test` result folders"
   ]
  },
  {
   "cell_type": "code",
   "execution_count": null,
   "metadata": {},
   "outputs": [],
   "source": [
    "def read_graphgym_stats_file(path):\n",
    "    path = Path(path)\n",
    "    return [json.loads(line) for line in (path).read_text().strip().split(\"\\n\") if len(line) > 0]\n",
    "\n",
    "\n",
    "def experiment_fn(config):\n",
    "    # our custom config from the ray config\n",
    "    config = config[\"custom_config\"]\n",
    "    repeats = config.get(\"repeats\", 1)\n",
    "    trial_name = config[\"trial_name\"]\n",
    "    grid_name = config[\"grid_name\"]\n",
    "\n",
    "    # write the config file passed by dict (since we want to allow distributed ray clusters)\n",
    "    config_file_contents = config[\"config_file_contents\"]\n",
    "    config_file_contents.setdefault(\"dataset\", dict())\n",
    "    dataset_path = Path(\"/tmp/graphgym_datasets\")\n",
    "    dataset_path.mkdir(parents=True, exist_ok=True)\n",
    "    config_file_contents[\"dataset\"][\"dir\"] = str(dataset_path)\n",
    "    config_path = Path(\"configs\") / grid_name / f\"{trial_name}.yaml\"\n",
    "    config_path.parent.mkdir(parents=True, exist_ok=True)\n",
    "    config_path.write_text(yaml.dump(config_file_contents))\n",
    "\n",
    "    # run the actual experiment\n",
    "    run_config(config_path, repeats, verbose=config.get(\"verbose\", True))\n",
    "\n",
    "    # find the results\n",
    "    result_path = (\n",
    "        Path(re.sub(r\"(^|/)configs/\", r\"\\1results/\", str(config_path.parent))) / trial_name\n",
    "    )\n",
    "    all_stats = dict()\n",
    "    for key in [\"train\", \"val\", \"test\"]:\n",
    "        stats_file = result_path / \"agg\" / key / \"stats.json\"\n",
    "        print(f\"Looking under {stats_file} for stats file\")\n",
    "        if stats_file.exists():\n",
    "            all_stats[key] = read_graphgym_stats_file(stats_file)\n",
    "\n",
    "    # finally, we'll return the final result\n",
    "    return dict(all_stats)"
   ]
  },
  {
   "attachments": {},
   "cell_type": "markdown",
   "metadata": {},
   "source": [
    "Here, we convert the configuration files to a ray config, which is a dictionary."
   ]
  },
  {
   "cell_type": "code",
   "execution_count": null,
   "metadata": {},
   "outputs": [],
   "source": [
    "# we will convert config_paths into a list of configs with config read out using yaml\n",
    "configs = [\n",
    "    {\n",
    "        \"repeats\": 1,\n",
    "        \"config_file_contents\": yaml.safe_load(Path(config_path).read_text()),\n",
    "        \"trial_name\": Path(config_path).stem,\n",
    "        \"grid_name\": Path(config_path).parent.stem,\n",
    "        \"verbose\": False,\n",
    "    }\n",
    "    for config_path in config_paths\n",
    "]\n",
    "\n",
    "# we'll only specify one field, custom_config because we're generating samples ourselves\n",
    "ray_configs = {\"custom_config\": ray.tune.grid_search(configs)}\n",
    "\n",
    "# by specifying resources, we're implicitly specifying how many jobs should run in parallel\n",
    "resources_per_trial = {\"cpu\": 1, \"gpu\": 0.5}\n",
    "\n",
    "# now, we define experiments using our ray function\n",
    "experiments = ray.tune.Experiment(\n",
    "    \"graphgym_experiment\",\n",
    "    experiment_fn,\n",
    "    config=ray_configs,\n",
    "    resources_per_trial=resources_per_trial,\n",
    ")"
   ]
  },
  {
   "cell_type": "markdown",
   "metadata": {},
   "source": [
    "Let's test the experiment_fn locally first to see if it runs properly."
   ]
  },
  {
   "cell_type": "code",
   "execution_count": null,
   "metadata": {},
   "outputs": [],
   "source": [
    "# we should test our ray function locally first\n",
    "result = experiment_fn({\"custom_config\": dict(configs[0], verbose=True)})"
   ]
  },
  {
   "attachments": {},
   "cell_type": "markdown",
   "metadata": {},
   "source": [
    "Run the experiment grid on the cluster"
   ]
  },
  {
   "cell_type": "code",
   "execution_count": null,
   "metadata": {},
   "outputs": [],
   "source": [
    "results = ray.tune.run_experiments(experiments=experiments)"
   ]
  },
  {
   "attachments": {},
   "cell_type": "markdown",
   "metadata": {},
   "source": [
    "Analyze the results"
   ]
  },
  {
   "cell_type": "code",
   "execution_count": null,
   "metadata": {},
   "outputs": [],
   "source": [
    "for experiment in results:\n",
    "    config = experiment.config\n",
    "    print(config)\n",
    "    print(f\"Validation accuracy was {experiment.last_result['val'][-1]['accuracy']}\")\n",
    "    print(\"#######################\")"
   ]
  }
 ],
 "metadata": {
  "kernelspec": {
   "display_name": "devel",
   "language": "python",
   "name": "python3"
  },
  "language_info": {
   "codemirror_mode": {
    "name": "ipython",
    "version": 3
   },
   "file_extension": ".py",
   "mimetype": "text/x-python",
   "name": "python",
   "nbconvert_exporter": "python",
   "pygments_lexer": "ipython3",
   "version": "3.9.13"
  },
  "orig_nbformat": 4
 },
 "nbformat": 4,
 "nbformat_minor": 2
}
